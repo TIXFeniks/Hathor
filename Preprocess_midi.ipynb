{
 "cells": [
  {
   "cell_type": "code",
   "execution_count": 1,
   "metadata": {
    "collapsed": true
   },
   "outputs": [],
   "source": [
    "import music21"
   ]
  },
  {
   "cell_type": "code",
   "execution_count": 8,
   "metadata": {
    "collapsed": true
   },
   "outputs": [],
   "source": [
    "import random\n",
    "\n",
    "\n"
   ]
  },
  {
   "cell_type": "code",
   "execution_count": 8,
   "metadata": {
    "collapsed": false
   },
   "outputs": [
    {
     "name": "stdout",
     "output_type": "stream",
     "text": [
      "Writing midi_preproc.py\n"
     ]
    }
   ],
   "source": [
    "%%writefile midi_preproc.py\n",
    "\n",
    "from music21 import converter, stream, note, chord, duration, pitch\n",
    "from scipy.sparse import csc_matrix\n",
    "\n",
    "import numpy as np\n",
    "\n",
    "instruments = ['Piano']\n",
    "\n",
    "def midiToMatrix(filename):\n",
    "    parsed = converter.parse(filename)\n",
    "\n",
    "    party = []\n",
    "\n",
    "    for part in parsed:\n",
    "        for voice in part.getElementsByClass(stream.Voice):\n",
    "            if voice.getInstrument().instrumentName in instruments:\n",
    "                for thisNote in [n for n in voice if (isinstance(n,note.Note) or isinstance(n,chord.Chord))]:\n",
    "                    cur_chord = np.zeros(129)\n",
    "                    for _pitch in thisNote.pitches:\n",
    "                        cur_chord[_pitch.midi] = 1\n",
    "                        #text += pitch.name+str(pitch.octave)\n",
    "                    dur = thisNote.duration.quarterLength\n",
    "                    cur_chord[-1] = dur#dur.numerator / float(dur.denominator)\n",
    "\n",
    "                    party.append(cur_chord)\n",
    "                    #text += dur_to_text(thisNote.duration.type)+'z'\n",
    "\n",
    "    return csc_matrix(party)\n",
    "\n",
    "from music21 import midi\n",
    "\n",
    "def save_mat2_mid(sparsed, fname='output/test.mid'):\n",
    "    music_stream = stream.Stream()\n",
    "\n",
    "    for dense_line in np.array(sparsed.todense()):\n",
    "        (notes,) = np.where(dense_line[:-1]>0.5)\n",
    "\n",
    "        pitches = []\n",
    "        for n in notes:\n",
    "            pitches.append(pitch.Pitch(midi=n))\n",
    "\n",
    "        crd = chord.Chord(notes= pitches, quarterLength=dense_line[-1])\n",
    "        music_stream.append(crd)\n",
    "        \n",
    "    md = midi.translate.streamToMidiFile(music_stream)\n",
    "    md.open(fname, 'wb')\n",
    "    md.write()\n",
    "    md.close()"
   ]
  },
  {
   "cell_type": "code",
   "execution_count": 6,
   "metadata": {
    "collapsed": false
   },
   "outputs": [],
   "source": [
    "#test\n",
    "sparsed = midiToMatrix('midi/abide_.mid')"
   ]
  },
  {
   "cell_type": "code",
   "execution_count": 7,
   "metadata": {
    "collapsed": true
   },
   "outputs": [],
   "source": [
    "save_mat2_mid(sparsed)"
   ]
  },
  {
   "cell_type": "code",
   "execution_count": 5,
   "metadata": {
    "collapsed": false
   },
   "outputs": [
    {
     "name": "stdout",
     "output_type": "stream",
     "text": [
      "Overwriting dataset_generation.py\n"
     ]
    }
   ],
   "source": [
    "%%writefile dataset_generation.py\n",
    "\n",
    "SEQ_LEN = 200\n",
    "STRIDE_MU = 20 #expected value of stride\n",
    "STRIDE_SIG = 2 #standard standard deviation of stride\n",
    "\n",
    "import sys\n",
    "from os import listdir\n",
    "from random import choice\n",
    "from midi_preproc import midiToMatrix\n",
    "import numpy as np\n",
    "import scipy\n",
    "from prefetch_generator import background\n",
    "\n",
    "bad_files = []\n",
    "\n",
    "#all files in storage\n",
    "files = [each for each in listdir('midi') if each.endswith('.mid') and (not ('midi/'+each in bad_files))]\n",
    "\n",
    "def split_random_file():#returns sparse matrix every SEQ_LEN rows of wich are cut from the vectorized midi file\n",
    "    fi = choice(files)#select random midi file\n",
    "    \n",
    "    cut = []\n",
    "    \n",
    "    sparsed = midiToMatrix('midi/'+fi)\n",
    "    pos = 0\n",
    "    \n",
    "    #cut the sequence\n",
    "    while(sparsed.shape[0] - pos > SEQ_LEN):\n",
    "        \n",
    "        cut.append(sparsed[pos: pos+SEQ_LEN])\n",
    "        \n",
    "        pos+= np.clip(np.round(np.random.normal(STRIDE_MU, STRIDE_SIG)), 1, SEQ_LEN//2)\n",
    "    if len(cut) > 0:\n",
    "        return scipy.sparse.vstack(cut,format='csr')\n",
    "    else:\n",
    "        return scipy.sparse.csc_matrix(np.zeros(shape=(0,129)))\n",
    "    \n",
    "def generate_minibatch(batch_size=32):\n",
    "    res = []\n",
    "    while(sum([x.shape[0] for x in res])/SEQ_LEN < batch_size):\n",
    "        res.append(split_random_file())\n",
    "    return scipy.sparse.vstack(res,format='csr')\n",
    "\n",
    "@background(max_prefetch=10)\n",
    "def iterate_minibatches(num_batches, batch_size=32):\n",
    "    for i in xrange(num_batches):\n",
    "        yield generate_minibatch(batch_size)"
   ]
  },
  {
   "cell_type": "code",
   "execution_count": 2,
   "metadata": {
    "collapsed": false
   },
   "outputs": [],
   "source": [
    "from dataset_generation import generate_minibatch"
   ]
  },
  {
   "cell_type": "code",
   "execution_count": 31,
   "metadata": {
    "collapsed": false
   },
   "outputs": [],
   "source": [
    "test_rnd_cutter = split_random_file()"
   ]
  },
  {
   "cell_type": "code",
   "execution_count": 3,
   "metadata": {
    "collapsed": false
   },
   "outputs": [
    {
     "name": "stdout",
     "output_type": "stream",
     "text": [
      "ress\n"
     ]
    }
   ],
   "source": [
    "test_generate = generate_minibatch()"
   ]
  },
  {
   "cell_type": "code",
   "execution_count": 4,
   "metadata": {
    "collapsed": false
   },
   "outputs": [
    {
     "data": {
      "text/plain": [
       "<8200x129 sparse matrix of type '<type 'numpy.float64'>'\n",
       "\twith 25189 stored elements in Compressed Sparse Row format>"
      ]
     },
     "execution_count": 4,
     "metadata": {},
     "output_type": "execute_result"
    }
   ],
   "source": [
    "test_generate"
   ]
  },
  {
   "cell_type": "code",
   "execution_count": null,
   "metadata": {
    "collapsed": true
   },
   "outputs": [],
   "source": []
  }
 ],
 "metadata": {
  "kernelspec": {
   "display_name": "Python 2",
   "language": "python",
   "name": "python2"
  },
  "language_info": {
   "codemirror_mode": {
    "name": "ipython",
    "version": 2
   },
   "file_extension": ".py",
   "mimetype": "text/x-python",
   "name": "python",
   "nbconvert_exporter": "python",
   "pygments_lexer": "ipython2",
   "version": "2.7.12"
  }
 },
 "nbformat": 4,
 "nbformat_minor": 1
}
