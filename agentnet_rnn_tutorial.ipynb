{
 "cells": [
  {
   "cell_type": "code",
   "execution_count": 1,
   "metadata": {
    "collapsed": false
   },
   "outputs": [],
   "source": [
    "import numpy as np\n",
    "import theano\n",
    "import theano.tensor as T\n",
    "import lasagne\n",
    "import os"
   ]
  },
  {
   "cell_type": "markdown",
   "metadata": {},
   "source": [
    "# Generate names\n",
    "* Struggle to find a name for the variable? Let's see how you'll come up with a name for your son/daughter. Surely no human has expertize over what is a good child name, so let us train NN instead.\n",
    "* Dataset contains ~8k human names from different cultures[in latin transcript]\n",
    "* Objective (toy problem): learn a generative model over names."
   ]
  },
  {
   "cell_type": "code",
   "execution_count": 2,
   "metadata": {
    "collapsed": false
   },
   "outputs": [],
   "source": [
    "start_token = \" \"\n",
    "\n",
    "with open(\"names\") as f:\n",
    "    names = f.read()[:-1].split('\\n')\n",
    "    names = [start_token+name for name in names]\n",
    "    "
   ]
  },
  {
   "cell_type": "code",
   "execution_count": 3,
   "metadata": {
    "collapsed": false
   },
   "outputs": [
    {
     "name": "stdout",
     "output_type": "stream",
     "text": [
      "n samples =  7944\n",
      " Abagael\n",
      " Claresta\n",
      " Glory\n",
      " Liliane\n",
      " Prissie\n",
      " Geeta\n",
      " Giovanne\n",
      " Piggy\n"
     ]
    }
   ],
   "source": [
    "print 'n samples = ',len(names)\n",
    "for x in names[::1000]:\n",
    "    print x"
   ]
  },
  {
   "cell_type": "markdown",
   "metadata": {},
   "source": [
    "# Text processing"
   ]
  },
  {
   "cell_type": "code",
   "execution_count": 4,
   "metadata": {
    "collapsed": false
   },
   "outputs": [
    {
     "name": "stdout",
     "output_type": "stream",
     "text": [
      "n_tokens =  55\n"
     ]
    }
   ],
   "source": [
    "#all unique characters go here\n",
    "token_set = set()\n",
    "for name in names:\n",
    "    for letter in name:\n",
    "        token_set.add(letter)\n",
    "\n",
    "tokens = list(token_set)\n",
    "\n",
    "print 'n_tokens = ',len(tokens)\n"
   ]
  },
  {
   "cell_type": "code",
   "execution_count": 5,
   "metadata": {
    "collapsed": false
   },
   "outputs": [],
   "source": [
    "#!token_to_id = <dictionary of symbol -> its identifier (index in tokens list)>\n",
    "token_to_id = {t:i for i,t in enumerate(tokens) }\n",
    "\n",
    "#!id_to_token = < dictionary of symbol identifier -> symbol itself>\n",
    "id_to_token = {i:t for i,t in enumerate(tokens)}"
   ]
  },
  {
   "cell_type": "code",
   "execution_count": 6,
   "metadata": {
    "collapsed": false
   },
   "outputs": [
    {
     "data": {
      "image/png": "[encoded data removed]",
      "text/plain": [
       "<matplotlib.figure.Figure at 0x7f89f57920d0>"
      ]
     },
     "metadata": {},
     "output_type": "display_data"
    }
   ],
   "source": [
    "import matplotlib.pyplot as plt\n",
    "%matplotlib inline\n",
    "plt.hist(map(len,names),bins=25);\n",
    "\n",
    "# truncate names longer than MAX_LEN characters. \n",
    "MAX_LEN = min([60,max(list(map(len,names)))])\n",
    "#ADJUST IF YOU ARE UP TO SOMETHING SERIOUS\n"
   ]
  },
  {
   "cell_type": "markdown",
   "metadata": {},
   "source": [
    "### Cast everything from symbols into identifiers"
   ]
  },
  {
   "cell_type": "code",
   "execution_count": 7,
   "metadata": {
    "collapsed": false
   },
   "outputs": [],
   "source": [
    "names_ix = list(map(lambda name: list(map(token_to_id.get,name)),names))\n",
    "\n",
    "\n",
    "#crop long names and pad short ones\n",
    "for i in range(len(names_ix)):\n",
    "    names_ix[i] = names_ix[i][:MAX_LEN] #crop too long\n",
    "    \n",
    "    if len(names_ix[i]) < MAX_LEN:\n",
    "        names_ix[i] += [token_to_id[\" \"]]*(MAX_LEN - len(names_ix[i])) #pad too short\n",
    "        \n",
    "assert len(set(map(len,names_ix)))==1\n",
    "\n",
    "names_ix = np.array(names_ix)"
   ]
  },
  {
   "cell_type": "markdown",
   "metadata": {},
   "source": [
    "# Input variables"
   ]
  },
  {
   "cell_type": "code",
   "execution_count": 8,
   "metadata": {
    "collapsed": true
   },
   "outputs": [],
   "source": [
    "from agentnet import Recurrence\n",
    "from lasagne.layers import *\n",
    "from agentnet.memory import *\n",
    "from agentnet.resolver import ProbabilisticResolver"
   ]
  },
  {
   "cell_type": "code",
   "execution_count": 9,
   "metadata": {
    "collapsed": true
   },
   "outputs": [],
   "source": [
    "sequence = T.matrix('token sequence','int64')\n",
    "\n",
    "inputs = sequence[:,:-1]\n",
    "targets = sequence[:,1:]\n",
    "\n",
    "\n",
    "l_input_sequence = InputLayer(shape=(None, None),input_var=inputs)\n"
   ]
  },
  {
   "cell_type": "markdown",
   "metadata": {},
   "source": [
    "# Build NN\n",
    "\n",
    "You'll be building a model that takes token sequence and predicts next tokens at each tick\n",
    "\n",
    "This is basically equivalent to how rnn step was described in the lecture"
   ]
  },
  {
   "cell_type": "code",
   "execution_count": 10,
   "metadata": {
    "collapsed": false
   },
   "outputs": [],
   "source": [
    "###One step of rnn\n",
    "class step:\n",
    "    \n",
    "    #inputs\n",
    "    inp = InputLayer((None,),name='current character')\n",
    "    h_prev = InputLayer((None,10),name='previous rnn state')\n",
    "    \n",
    "    #recurrent part\n",
    "    emb = EmbeddingLayer(inp, len(tokens), 30,name='emb')\n",
    "    \n",
    "    h_new = RNNCell(h_prev,emb,name=\"rnn\") #just concat -> denselayer\n",
    "    \n",
    "    next_token_probas = DenseLayer(h_new,len(tokens),nonlinearity=T.nnet.softmax)\n",
    "    \n",
    "    #pick next token from predicted probas\n",
    "    next_token = ProbabilisticResolver(next_token_probas)\n",
    "    \n"
   ]
  },
  {
   "cell_type": "code",
   "execution_count": 11,
   "metadata": {
    "collapsed": false
   },
   "outputs": [
    {
     "name": "stderr",
     "output_type": "stream",
     "text": [
      "/home/jheuristic/Downloads/AgentNet/agentnet/agent/recurrence.py:293: UserWarning: You are giving Recurrence an input sequence of undefined length (None).\n",
      "Make sure it is always above <unspecified>(n_steps) you specified for recurrence\n",
      "  \"Make sure it is always above {}(n_steps) you specified for recurrence\".format(n_steps or \"<unspecified>\"))\n"
     ]
    }
   ],
   "source": [
    "training_loop = Recurrence(\n",
    "    state_variables={step.h_new:step.h_prev},\n",
    "    input_sequences={step.inp:l_input_sequence},\n",
    "    tracked_outputs=[step.next_token_probas,],\n",
    "    unroll_scan=False,\n",
    ")\n"
   ]
  },
  {
   "cell_type": "code",
   "execution_count": 12,
   "metadata": {
    "collapsed": false
   },
   "outputs": [
    {
     "name": "stdout",
     "output_type": "stream",
     "text": [
      "[rnn.hid_to_hid.W, rnn.hid_to_hid.b, emb.W, rnn.input0_to_hid.W, W, b]\n"
     ]
    }
   ],
   "source": [
    "# Model weights\n",
    "weights = lasagne.layers.get_all_params(training_loop,trainable=True)\n",
    "print weights"
   ]
  },
  {
   "cell_type": "code",
   "execution_count": 13,
   "metadata": {
    "collapsed": false
   },
   "outputs": [],
   "source": [
    "predicted_probabilities = lasagne.layers.get_output(training_loop[step.next_token_probas])\n",
    "#If you use dropout do not forget to create deterministic version for evaluation"
   ]
  },
  {
   "cell_type": "code",
   "execution_count": 15,
   "metadata": {
    "collapsed": false
   },
   "outputs": [],
   "source": [
    "\n",
    "loss = lasagne.objectives.categorical_crossentropy(predicted_probabilities.reshape((-1,len(tokens))),\n",
    "                                                   targets.reshape((-1,))).mean()\n",
    "#<Loss function - a simple categorical crossentropy will do, maybe add some regularizer>\n",
    "\n",
    "updates = lasagne.updates.adam(loss,weights)"
   ]
  },
  {
   "cell_type": "markdown",
   "metadata": {},
   "source": [
    "# Compiling it"
   ]
  },
  {
   "cell_type": "code",
   "execution_count": 20,
   "metadata": {
    "collapsed": false
   },
   "outputs": [],
   "source": [
    "\n",
    "#training\n",
    "train_step = theano.function([sequence], loss,\n",
    "                             updates=training_loop.get_automatic_updates()+updates)\n"
   ]
  },
  {
   "cell_type": "markdown",
   "metadata": {},
   "source": [
    "# generation\n",
    "\n",
    "here we re-wire the recurrent network so that it's output is fed back to it's input"
   ]
  },
  {
   "cell_type": "code",
   "execution_count": 21,
   "metadata": {
    "collapsed": false
   },
   "outputs": [],
   "source": [
    "n_steps = T.scalar(dtype='int32')\n",
    "feedback_loop = Recurrence(\n",
    "    state_variables={step.h_new:step.h_prev,\n",
    "                     step.next_token:step.inp},\n",
    "    tracked_outputs=[step.next_token_probas,],\n",
    "    batch_size=theano.shared(1),\n",
    "    n_steps=n_steps,\n",
    "    unroll_scan=False,\n",
    ")\n"
   ]
  },
  {
   "cell_type": "code",
   "execution_count": 22,
   "metadata": {
    "collapsed": false
   },
   "outputs": [],
   "source": [
    "generated_tokens = get_output(feedback_loop[step.next_token])"
   ]
  },
  {
   "cell_type": "code",
   "execution_count": 23,
   "metadata": {
    "collapsed": false
   },
   "outputs": [],
   "source": [
    "generate_sample = theano.function([n_steps],generated_tokens,updates=feedback_loop.get_automatic_updates())"
   ]
  },
  {
   "cell_type": "code",
   "execution_count": 24,
   "metadata": {
    "collapsed": false
   },
   "outputs": [],
   "source": [
    "def generate_string(length=MAX_LEN):\n",
    "    output_indices = generate_sample(length)[0]\n",
    "    \n",
    "    return ''.join(tokens[i] for i in output_indices)\n",
    "    "
   ]
  },
  {
   "cell_type": "code",
   "execution_count": 25,
   "metadata": {
    "collapsed": false
   },
   "outputs": [
    {
     "data": {
      "text/plain": [
       "'kaoXqKAFOZ--SXZP'"
      ]
     },
     "execution_count": 25,
     "metadata": {},
     "output_type": "execute_result"
    }
   ],
   "source": [
    "generate_string()"
   ]
  },
  {
   "cell_type": "markdown",
   "metadata": {},
   "source": [
    "# Model training\n",
    "\n",
    "Here you can tweak parameters or insert your generation function\n",
    "\n",
    "\n",
    "__Once something word-like starts generating, try increasing seq_length__\n",
    "\n"
   ]
  },
  {
   "cell_type": "code",
   "execution_count": 26,
   "metadata": {
    "collapsed": true
   },
   "outputs": [],
   "source": [
    "def sample_batch(data, batch_size):\n",
    "    \n",
    "    rows = data[np.random.randint(0,len(data),size=batch_size)]\n",
    "    \n",
    "    return rows"
   ]
  },
  {
   "cell_type": "code",
   "execution_count": 27,
   "metadata": {
    "collapsed": false
   },
   "outputs": [
    {
     "name": "stdout",
     "output_type": "stream",
     "text": [
      "Training ...\n",
      "\n",
      "\n",
      "Epoch 0 average loss = 2.459113338\n",
      "Generated names\n",
      " CTiiM daI  ViHs Tnay JeclGrA   n rAysserjHe          aVlolrCnagio  v   Sj     Nl'    Lih      Gaq    QAuik   gyGeixh  q  h       q     y         l   H       dtn   e   a \n",
      "\n",
      "Epoch 1 average loss = 1.48151442409\n",
      "Generated names\n",
      "Ama        SlaT  Tiari             un  EriaF     J                    Ne   a    n    Eronne              -rearaKdiUi             Jnidue Oeaa             U at         b   \n",
      "\n",
      "Epoch 2 average loss = 1.32031585945\n",
      "Generated names\n",
      "Lrntlznuureta    Vj               SnaTeLivdni      meana          l                  urhf             Amoazara  Zanlub Amienidn     qes  Hsha                n            \n",
      "\n",
      "Epoch 3 average loss = 1.2446654422\n",
      "Generated names\n",
      "X                T                ClievisG   Gi    Bermuo       Bao qGyUbo           TyOd             Shio             Mssine           Tda              Krac             \n",
      "\n",
      "Epoch 4 average loss = 1.21228895439\n",
      "Generated names\n",
      "Gie              Casa             Lhel             Dirtilia         SyPioi           Veve             Lan              Huriwlenieea                      Kaalo            \n",
      "\n",
      "Epoch 5 average loss = 1.16934621868\n",
      "Generated names\n",
      "Sinfa            Styyt             Ross            Cdeer            Brarse           Sicane           Alari          B Tidattae         PQrguky          Gugylid          \n",
      "\n",
      "Epoch 6 average loss = 1.15463410643\n",
      "Generated names\n",
      "Laido            Aopak            Hyline           Eby              Whanecont        tosenn           Sesie            LeNerey          Onnie            Milareh          \n",
      "\n",
      "Epoch 7 average loss = 1.13878075207\n",
      "Generated names\n",
      "Avuvdena         Heora            Jida             Jubey            Kennyw           Nizha         t  Blaeyte          Aened                             Sotsa            \n",
      "\n",
      "Epoch 8 average loss = 1.13747142478\n",
      "Generated names\n",
      "Hillecns         Miece            Brei             E Taleldsama     Lameh            Roryrdy          Anarpes          Gafey            Delace           Kaartz           \n",
      "\n",
      "Epoch 9 average loss = 1.12452646033\n",
      "Generated names\n",
      "Vanern           Laulror          Adddyl            li              Balam            Derinte          GarJasb          Losye            Leesal           Tuoly            \n",
      "\n",
      "Epoch 10 average loss = 1.11760642508\n",
      "Generated names\n",
      "Lajlar           Jons             Flandy           Joaslenly        Ecaria           Dore             Eu               Jinane           Mhuy             Jorig            \n",
      "\n",
      "Epoch 11 average loss = 1.11338808855\n",
      "Generated names\n",
      "Klinod           Gyndca           Cmisn            Harbfr           PGannde          Jora             Elwin            Siede            Jasoo            Wiima            \n",
      "\n",
      "Epoch 12 average loss = 1.09521686695\n",
      "Generated names\n",
      "Keun             Jadarst          Glara            Donthor          Srarariet        Zilaea           Tilbie           Hirada           Jerirke   l      Dwera            \n",
      "\n",
      "Epoch 13 average loss = 1.09180384213\n",
      "Generated names\n",
      "Bcannva          Bbanga           Ruednce          Nei              Cralline         Horla            Cytlk            GIlrrel          Relbintia        Canyf            \n",
      "\n",
      "Epoch 14 average loss = 1.09008883149\n",
      "Generated names\n",
      "Nedne            Deverrin         Irnennintin      Acareceiiit      Athuelria        Tanla             Fymo            Nolilt           Cadi             Shud             \n",
      "\n",
      "Epoch 15 average loss = 1.08665773279\n",
      "Generated names\n",
      "Carbava          Gonea            Rufrethe         Battsie          Cotidilre        Jarte            Lrygso           Boonas           Bal              A Fafusa         \n",
      "\n",
      "Epoch 16 average loss = 1.08192835774\n",
      "Generated names\n",
      "Alad             Worle            Fusriwie         Wicie            Werhan           Matie            Mile             Balsod           Piene            Jranttola        \n",
      "\n",
      "Epoch 17 average loss = 1.08181843138\n",
      "Generated names\n",
      "Meunhy           Karion           Sucar  d         Tsherdy          Tooabi           Winel            Shaber           Teicm            Bycaenne         Frini            \n",
      "\n",
      "Epoch 18 average loss = 1.07160790063\n",
      "Generated names\n",
      "Gediatix         Jadlin           Brorsaa          Celin            Anlera           Ario             Canary           Dabelliti        Shannera         Shonia           \n",
      "\n",
      "Epoch 19 average loss = 1.07553662761\n",
      "Generated names\n",
      "Amou             Keati            Gglomans         Leucan           Baronaw          Gen              Evi              Jowlaa           Diid             Folie            \n",
      "\n",
      "Epoch 20 average loss = 1.07269653507\n",
      "Generated names\n",
      "Mirenca          Teerse           Kinchamy         Meetotta         Segthine         Fale             Dollad           Aiyngy           Livio            QTmdarsi         \n",
      "\n",
      "Epoch 21 average loss = 1.07357783023\n",
      "Generated names\n",
      "Avhllal          Thdiit           Nallir           Vene             Jatex            Wanne            Gavina           Phonphiy         Kestaros         Citar            \n",
      "\n",
      "Epoch 22 average loss = 1.07578047529\n",
      "Generated names\n",
      "Serara           Elaon            Ardana           Onrudlan         Cariinttelie     Kesc             Arilley          Smi              Aririe           Re               \n",
      "\n",
      "Epoch 23 average loss = 1.05811868155\n",
      "Generated names\n",
      "Cirice           Ezoshan          Anna             Oldina           Narlastis        Zrinhon          Rurtelyt         Cyne             Shona            Sarevie          \n",
      "\n",
      "Epoch 24 average loss = 1.06192015984\n",
      "Generated names\n",
      "Harannian        Osuan            Beonia           Kirye            Eripon           Netmencie        Sharlie          Belrlell         Fanina           Amlary           \n",
      "\n",
      "Epoch 25 average loss = 1.06127356798\n",
      "Generated names\n",
      "Amon             Orinsa           Bhenla           Fema             Arien            Raoluse          Frypibitel       Orke             Anntan           Cadm             \n",
      "\n",
      "Epoch 26 average loss = 1.06629730905\n",
      "Generated names\n",
      "Sauche           Asticna          Therig  a        Bele             Betiot           Shenntta         Senex            Arl              Vourrajey        Elldah           \n",
      "\n",
      "Epoch 27 average loss = 1.05841800009\n",
      "Generated names\n",
      "Nedel            Chorlia          Albhaty          Cinton           Bemerlia         Moomia           Dech             Covey            Pirta            Golaly           \n",
      "\n",
      "Epoch 28 average loss = 1.06199989354\n",
      "Generated names\n",
      "Gelin            Poncar           Jarinle          Miv              Shenislia        Murle            Nidee            Viordenn         Theskotn         A                \n",
      "\n",
      "Epoch 29 average loss = 1.06542257645\n",
      "Generated names\n",
      "Mosrhine         Heena            Cyryn            Relcie           Ada              Auxonc           War              Diessa           Icefynie         A-ualis          \n",
      "\n",
      "Epoch 30 average loss = 1.06065505525\n",
      "Generated names\n",
      "Larvely          Ent              Adca             Kirata           Nesen            Bfrarmme         Adicti           Walinsiey        Chorsie          Fian             \n",
      "\n",
      "Epoch 31 average loss = 1.06292972122\n",
      "Generated names\n",
      "Sullanna         Vordes           Villion          Line             Jeris            Meldone          Drice            Meretrirfelle    Ron              Nefrke           \n",
      "\n",
      "Epoch 32 average loss = 1.06257407306\n",
      "Generated names\n",
      "Jossati          Lobastca         Auselly          Luceligte        Manseeh          Shedntie         Hanna            Cmomba           Blekie           Annta            \n",
      "\n",
      "Epoch 33 average loss = 1.05382351835\n",
      "Generated names\n",
      "Ganno            Ancte            Omntka           Holye            Galyn            Larta            Tis              Sharie           Gleli            Kesladt          \n",
      "\n",
      "Epoch 34 average loss = 1.06353209275\n",
      "Generated names\n",
      "Dyllene          Derne            Hilannh          Iszia            Za               Dorin            Marte            Atiatsa          Jove             Trerele          \n",
      "\n",
      "Epoch 35 average loss = 1.06220656465\n",
      "Generated names\n",
      "Lorrele          Celia            Nulia            S Illo           Alywy            L Eg             Ennca            Awdlay           Damman           Widile           \n",
      "\n",
      "Epoch 36 average loss = 1.06133988675\n",
      "Generated names\n",
      "Mart             Donsi            Clartho          Salul            Dosko            Lane             uanl             Alrnorlie        Bbamer           Kalon            \n",
      "\n",
      "Epoch 37 average loss = 1.06299217346\n",
      "Generated names\n",
      "Ponarine         Chairee          Telde            Harske           Junidan          Pobia            Deldis           Shanebe          Colanamiy        Rol              \n",
      "\n",
      "Epoch 38 average loss = 1.06255422991\n",
      "Generated names\n",
      "Anna             Ciraica          Robix            Evyes            Gumonod          Begete           Dolia            Hery             Cenanie          Dardeut          \n",
      "\n",
      "Epoch 39 average loss = 1.06007436512\n",
      "Generated names\n",
      "Beted            Aminna           Feishen          Am               Blets            Leree            Mwaragcs         Arbidi           Anrier           Kabin            \n",
      "\n",
      "Epoch 40 average loss = 1.06165317529\n",
      "Generated names\n",
      "Doorana          Sediy            Lon              Jelophesta       Am               Lilana           Mopyne           Cannevlit-Mane   Aces             Lecha            \n",
      "\n",
      "Epoch 41 average loss = 1.05168978429\n",
      "Generated names\n",
      "Sittok           Kliyt            Crer             Bawrley          Rogalina         Fancis           Enine            Kaned            Skasha           Bolla            \n",
      "\n",
      "Epoch 42 average loss = 1.05243606738\n",
      "Generated names\n",
      "Lakk             Ennney           Carnarenne       Yagorr           Wifrald          Malne            Baly             Edmevy           Aldan            Berdele          \n",
      "\n",
      "Epoch 43 average loss = 1.05857227095\n",
      "Generated names\n",
      "Ge               Tabya            Frirrelle        Tonarzia         Vangie           Arca             Jotiana          Pebeolle         Beninil          Canur            \n",
      "\n",
      "Epoch 44 average loss = 1.05710756636\n",
      "Generated names\n",
      "Denarde          Phunande         Daria            Kafrlie          Alik             Cajerserta       Jonelly          Losonde          Tilgtel          Kichonata        \n",
      "\n",
      "Epoch 45 average loss = 1.04989719715\n",
      "Generated names\n",
      "Pelelel          Olta             Orina            Bensia           Narranda         Jana             Hauey            Vinna            Anl              Rell             \n",
      "\n",
      "Epoch 46 average loss = 1.05932706753\n",
      "Generated names\n",
      "Dazp             Ayge             Caldore          Endalan          Frdottan         Jaminne          Martannkie       Lise             Juocsina         Ennd             \n",
      "\n",
      "Epoch 47 average loss = 1.05501585459\n",
      "Generated names\n",
      "Bordetcte        Laree            Vonatmel         Re-urelie        Dosa             Atily            Bayne            Ragdfralen       Jangina          Jery             \n",
      "\n",
      "Epoch 48 average loss = 1.05377634225\n",
      "Generated names\n",
      "Elrlien          Judoth           Daune            Venta            Andie            De               Wegd             Pahllig          Harynel          Pid              \n",
      "\n",
      "Epoch 49 average loss = 1.05219750884\n",
      "Generated names\n",
      "Nalatka          Ori              Eskacie          Eman             Menahis          Tuluellr         Swerbere         Shenlalys        Girria           Borre            \n",
      "\n",
      "Epoch 50 average loss = 1.04643714534\n",
      "Generated names\n",
      "Lurido           Traby            Sinzesso         Hatis            Kin              Lmemsuly         Canga            Jotie            Genna            Emelel           \n",
      "\n",
      "Epoch 51 average loss = 1.05003975992\n",
      "Generated names\n",
      "Caref            Jaruche          Alaollo          Hyr              Tolleen          Muin             Icy              Milats           Vars             Lesta            \n",
      "\n",
      "Epoch 52 average loss = 1.049178787\n",
      "Generated names\n",
      "Caryete          Marbyn           Silia            Garabetsi        Deten            Gucheickese      Adabe            Malyse           Sharets          Olessisa         \n",
      "\n",
      "Epoch 53 average loss = 1.05067507985\n",
      "Generated names\n",
      "Nevie            Parrli           Isak             Hisa             Helellme         Dara             Sarlne           Desaliqy         Falevi           Annese           \n",
      "\n",
      "Epoch 54 average loss = 1.05353349935\n",
      "Generated names\n",
      "Bamman           Conto            Nevelia          Molkik           Jaulle           Gugn             Hocharver        Thanie           Xistind          Corina           \n",
      "\n",
      "Epoch 55 average loss = 1.04445467334\n",
      "Generated names\n",
      "Bonnac           Tobiquy          Radie            Ettrell          Rosvis           Adede            Laricie          Bysslatie        Mignia           Losda            \n",
      "\n",
      "Epoch 56 average loss = 1.047765695\n",
      "Generated names\n",
      "Karanlah         Encista          Erne             Kalen            Gainey           Meci             Mhanns           Irele            Roquli           Zonen            \n",
      "\n",
      "Epoch 57 average loss = 1.05174707139\n",
      "Generated names\n",
      "Bbinde           Shisore          Distha           Matholie         Rulela           Kiorty           Zawley           Gegiquz          Torcia           Dathely          \n",
      "\n",
      "Epoch 58 average loss = 1.04758747194\n",
      "Generated names\n",
      "Ckina            Wysh             Brardil          Sezam a          Malid            Dele             Heuda            Calieba          Ssarid           Girosta          \n",
      "\n",
      "Epoch 59 average loss = 1.04894773406\n",
      "Generated names\n",
      "Chet             Iashela          Sinchel          Shinnelin        Aden             Dorf             Rugcary          Valie            Galthele         Garlena          \n",
      "\n",
      "Epoch 60 average loss = 1.05018867118\n",
      "Generated names\n",
      "Nelota           Serydta          Kkyn             Inle             Auckern          Haphenelen       Brurenza         Danef            Shrianna         Andee            \n",
      "\n",
      "Epoch 61 average loss = 1.04507420435\n",
      "Generated names\n",
      "Kistra           Lurtie           Derin            Gunnend          Laly             Bradond          Hajaw            Annelk           Tamane           Jorlica          \n",
      "\n",
      "Epoch 62 average loss = 1.04726273395\n",
      "Generated names\n",
      "Aundy            Kichiy           Urnexeste        Sangit           Luflmer          Ewbe             Malaneri         Kighore          Phrolile         Nanie            \n",
      "\n",
      "Epoch 63 average loss = 1.04885520548\n",
      "Generated names\n",
      "Tuendoiny        Lilill           Ell              Itramy           Izeledic         Sferel           Vord             Sejara           Xamada           Shanna           \n",
      "\n",
      "Epoch 64 average loss = 1.05141810007\n",
      "Generated names\n",
      "Daliely          Rilayle          Ferica           Rolley           Cirden           Viasca           Ance             Corik            Shauadbina       Kerli            \n",
      "\n",
      "Epoch 65 average loss = 1.04861521878\n",
      "Generated names\n",
      "Revine           Gerily           Lic              Gallely          Gotia            Iryw             Kecet            Michiek          Monna            Squkenee         \n",
      "\n",
      "Epoch 66 average loss = 1.04267561351\n",
      "Generated names\n",
      "Porande          Eden             Taeece           Malora           Whridokha        Mavoie           Ku               Ronce            Lelmari          Pefenen          \n",
      "\n",
      "Epoch 67 average loss = 1.04723004852\n",
      "Generated names\n",
      "Honduke          Ponna            Nerob            Kathyn           Klanie           Fuggit           Rriwen           Gala             Rablie           Lalie            \n",
      "\n",
      "Epoch 68 average loss = 1.04282407689\n",
      "Generated names\n",
      "Jobis            Malhodola        Shrirela         Palan            Aryskan          Eca              Madyssesi        Tharne           Schelllo         Domiga           \n",
      "\n",
      "Epoch 69 average loss = 1.04716842873\n",
      "Generated names\n",
      "Davolbel         Rorita           Ige              Ceana            Korolin          Ancer            Merws            Addupemfri       Herseriz         Mishita          \n",
      "\n",
      "Epoch 70 average loss = 1.04304361275\n",
      "Generated names\n",
      "Styn             Staron           Kivieand         Kandachen        Mare             Mattidr          Barchanna        Karinis          Sarele           Himesta          \n",
      "\n",
      "Epoch 71 average loss = 1.04361887917\n",
      "Generated names\n",
      "unamar           Kene             Alamis           Pharkte          Alilol           Malarle          Doo              Kaleri           Ttherday         Nyesin           \n",
      "\n",
      "Epoch 72 average loss = 1.03822326145\n",
      "Generated names\n",
      "Winalyne         Ryetce           Aukay            Gerana           Stenina          Larta            Dorahnile        Auskas           Erno             Darine           \n",
      "\n",
      "Epoch 73 average loss = 1.04598050544\n",
      "Generated names\n",
      "Panelbia         Eciania          Sporan           Gesse            Tierde           Kara             Pie              Jymlan           Roshare          Pailien          \n",
      "\n",
      "Epoch 74 average loss = 1.0445951882\n",
      "Generated names\n",
      "Sphesry          Rremine          Chmia            Maglity          Harhelarl        Mowy             Defrah           Dana             Beni             Getin            \n",
      "\n",
      "Epoch 75 average loss = 1.04135694475\n",
      "Generated names\n",
      "Jeina            Saselil          Lotphaly         Sulsisie         Kisa             Ramwe            Wira             Feerse           Hedlce           Thily            \n",
      "\n",
      "Epoch 76 average loss = 1.03891499177\n",
      "Generated names\n",
      "Tendela          Dioti            Launaly          Talan            Jesene           Stenn            Makica           Tramavo          Meina            Kerreor          \n",
      "\n",
      "Epoch 77 average loss = 1.04586444348\n",
      "Generated names\n",
      "Jerie            Jymadu           Virdos           Clendites        Brejay           Allale           Speliin          Maine            Yorna            Ma               \n",
      "\n",
      "Epoch 78 average loss = 1.03815485907\n",
      "Generated names\n",
      "Luctorele        Tishida          Darder           Gamrely          Fiidy            Shavitie         Icieste          Elilutte         Doleri           Tan              \n",
      "\n",
      "Epoch 79 average loss = 1.04607423584\n",
      "Generated names\n",
      "Millez           Fetry            Mary             Erna             Belelet          Sog              Stista           Alde             Routa            Gindi            \n",
      "\n",
      "Epoch 80 average loss = 1.04191821797\n",
      "Generated names\n",
      "Dorlan           Miswaneine       Panel            Deliannes        Stiish           Rore             Nelee            Orllery          Araciride        Chimanna         \n",
      "\n",
      "Epoch 81 average loss = 1.03834778344\n",
      "Generated names\n",
      "Sal              Helwele          Dery             Efboee           Cosetta          Wynayn           Avik             Celle            Halithert        Daloste          \n",
      "\n",
      "Epoch 82 average loss = 1.04862534783\n",
      "Generated names\n",
      "Kidati           Mocamina         Jinse            Nenalett         Julina           Thenla           Fornatsad        Nathetma         Osie             Ausria           \n",
      "\n",
      "Epoch 83 average loss = 1.03976895537\n",
      "Generated names\n",
      "Fo               Thriello         Trliloce         Annzie           Donnenne         Dasieo           Tardanna         Allana           Dely             Ciraelil         \n",
      "\n",
      "Epoch 84 average loss = 1.04871116389\n",
      "Generated names\n",
      "Shignis          Carilyn          Chosonle         Nenne            Jarigita         Sdina            Ranncortona      Frastina         Thumriz          Perrauel         \n",
      "\n",
      "Epoch 85 average loss = 1.03117208916\n",
      "Generated names\n",
      "RaAlchine        Edaletta         Erky             Allie            Heonch           Galnin           Braborer         Shacgie          Marmellyne       Silyn            \n",
      "\n",
      "Epoch 86 average loss = 1.03876071298\n",
      "Generated names\n",
      "Gogossy          Wia              Cengah           Bescey           Robaphenn        Brerupa          Waril            Kyrtgie          Styann           Criur            \n",
      "\n",
      "Epoch 87 average loss = 1.04527916443\n",
      "Generated names\n",
      "Beethain         Fanky            Brarlid          Denck            Mamben           Tlulanie         Mathama          Celte            Kerlmette        Senariy          \n",
      "\n",
      "Epoch 88 average loss = 1.03494162979\n",
      "Generated names\n",
      "Cattorh          Shanne           Vinlet           Tesrah           Deica            Ads              Casse            Sorelde          Erlly            Sygnele          \n",
      "\n",
      "Epoch 89 average loss = 1.03647793138\n",
      "Generated names\n",
      "Koranne          Sicenty          Carbry           Thophaneyn       Evwaris          Daith            Sullan           Gnammy           Getkie           Agnagsa          \n",
      "\n",
      "Epoch 90 average loss = 1.04362710309\n",
      "Generated names\n",
      "Chryfie          Alotrid          Matatta          Amene            Trerie           Parwia           Sahonne          Rostesa          Kilrorian        Jhanena          \n",
      "\n",
      "Epoch 91 average loss = 1.03989352741\n",
      "Generated names\n",
      "Jat              Relle            Jorla            Ctye             Hurrdsiy         Yemoto           Rofby            Anania           Rorertere        Maugny           \n",
      "\n",
      "Epoch 92 average loss = 1.03404652436\n",
      "Generated names\n",
      "S-Armiste        Jmyanc           Ontoynne         Nara             Geedoth          Githona-Merora   Awnnle           Sydria           Kienshei         Pofra            \n",
      "\n",
      "Epoch 93 average loss = 1.03516443445\n",
      "Generated names\n",
      "Haddyx           Dulra            Dasrabbe         Eryssa           Erria            Terra            Gatelel          Macik            Lungulyn         Ezagneri         \n",
      "\n",
      "Epoch 94 average loss = 1.04478919768\n",
      "Generated names\n",
      "Incha            Morne            Atarla           Eie              Jweren           Ryvely           Edartel          Jyas             Wad              Silisty          \n",
      "\n",
      "Epoch 95 average loss = 1.03923666168\n",
      "Generated names\n",
      "Emeldia          Gannine          Celephonia       Ganegol          Mithe            Lonne            Foeri            Emfba            Monne            Aude             \n",
      "\n",
      "Epoch 96 average loss = 1.03841721218\n",
      "Generated names\n",
      "Kily             Bin-Alrita       Mattory          Meniy            Lob              Sena             Nickiel          Shelda           Anchely          Resaden          \n",
      "\n",
      "Epoch 97 average loss = 1.03972609979\n",
      "Generated names\n",
      "Perhes           Ethorya          Raliney          Guttoy           Cyq              Matlette         Mabyen           Sy               Trenkya          Korrie           \n",
      "\n",
      "Epoch 98 average loss = 1.03814580433\n",
      "Generated names\n",
      "Jundide          Chiy             Shylla           Keldmyan         Maell            Bonie            Lidie            Vorand           Sil              Malavan          \n",
      "\n",
      "Epoch 99 average loss = 1.03470052032\n",
      "Generated names\n",
      "Mey              Uimn             Wabbati          Dyarolla         Jarry            Misy             Doroty           Kuan             Marie            Derrorti        \n"
     ]
    }
   ],
   "source": [
    "\n",
    "print(\"Training ...\")\n",
    "\n",
    "\n",
    "#total N iterations\n",
    "n_epochs=100\n",
    "\n",
    "# how many minibatches are there in the epoch \n",
    "batches_per_epoch = 500\n",
    "\n",
    "#how many training sequences are processed in a single function call\n",
    "batch_size=10\n",
    "\n",
    "\n",
    "for epoch in xrange(n_epochs):\n",
    "\n",
    "    avg_cost = 0;\n",
    "    for _ in range(batches_per_epoch):\n",
    "        \n",
    "        avg_cost += train_step(sample_batch(names_ix,batch_size))\n",
    "        \n",
    "    print(\"\\n\\nEpoch {} average loss = {}\".format(epoch, avg_cost / batches_per_epoch))\n",
    "\n",
    "    print \"Generated names\"\n",
    "    for i in range(10):\n",
    "        print generate_string(),\n"
   ]
  },
  {
   "cell_type": "code",
   "execution_count": null,
   "metadata": {
    "collapsed": true
   },
   "outputs": [],
   "source": []
  },
  {
   "cell_type": "markdown",
   "metadata": {},
   "source": [
    "# And now,\n",
    "* try lstm/gru\n",
    "* try several layers\n",
    "* try mtg cards\n",
    "* try your own dataset of any kind"
   ]
  },
  {
   "cell_type": "code",
   "execution_count": null,
   "metadata": {
    "collapsed": true
   },
   "outputs": [],
   "source": []
  }
 ],
 "metadata": {
  "kernelspec": {
   "display_name": "Python 2",
   "language": "python",
   "name": "python2"
  },
  "language_info": {
   "codemirror_mode": {
    "name": "ipython",
    "version": 2
   },
   "file_extension": ".py",
   "mimetype": "text/x-python",
   "name": "python",
   "nbconvert_exporter": "python",
   "pygments_lexer": "ipython2",
   "version": "2.7.12"
  }
 },
 "nbformat": 4,
 "nbformat_minor": 0
}
