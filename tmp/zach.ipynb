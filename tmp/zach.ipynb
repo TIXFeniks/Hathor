{
 "cells": [
  {
   "cell_type": "markdown",
   "metadata": {},
   "source": [
    "# Задача 1"
   ]
  },
  {
   "cell_type": "code",
   "execution_count": 2,
   "metadata": {
    "collapsed": false,
    "scrolled": true
   },
   "outputs": [
    {
     "name": "stdout",
     "output_type": "stream",
     "text": [
      "Dima\n"
     ]
    }
   ],
   "source": [
    "maxID = 0\n",
    "nameToID = {}\n",
    "\n",
    "\n",
    "\n",
    "def getID(name):\n",
    "    global maxID\n",
    "    if name in nameToID:\n",
    "        return nameToID[name]\n",
    "    else:\n",
    "        maxID+=1\n",
    "        nameToID[name] = maxID\n",
    "        return maxID\n",
    "\n",
    "order = list()\n",
    "\n",
    "with open('input.txt','r') as f:\n",
    "    cur = -1\n",
    "    cur_count = -1\n",
    "    \n",
    "    i = 0\n",
    "    for cmd in f.readlines():\n",
    "        args = cmd[:-1].split(' ')\n",
    "        #print args\n",
    "        if i == 0:\n",
    "            i+=1\n",
    "            continue\n",
    "        if i == 1:\n",
    "            order.append(getID(args[0]))\n",
    "            i+=1\n",
    "            continue\n",
    "        if args[0] == 'add':\n",
    "            id1 = getID(args[1])\n",
    "            id2 = getID(args[2])\n",
    "            id2_pos = order.index(id2)\n",
    "            order.insert(id2_pos+1, id1)\n",
    "            if cur >= id2_pos:\n",
    "                cur+=1\n",
    "        else:\n",
    "            cur+=1\n",
    "            cur%=len(order)\n",
    "            cur_count+=1\n",
    "            if cur_count == 4:\n",
    "                cur_count = 0\n",
    "                order.pop(cur)\n",
    "    idToName = {nameToID[name]:name for name in nameToID}\n",
    "    print idToName[order[0]]"
   ]
  },
  {
   "cell_type": "markdown",
   "metadata": {},
   "source": [
    "# задача 2"
   ]
  },
  {
   "cell_type": "code",
   "execution_count": 8,
   "metadata": {
    "collapsed": false
   },
   "outputs": [
    {
     "name": "stdout",
     "output_type": "stream",
     "text": [
      "1, 2, 121\n"
     ]
    }
   ],
   "source": [
    "books = set()\n",
    "\n",
    "with open('input.txt','r') as f:\n",
    "    for cmd in f.readlines():\n",
    "        args = cmd[:-1].split(' ')\n",
    "        if args[0] == 'add':\n",
    "            books.add(int(args[1]))\n",
    "        else:\n",
    "            print repr(books)[5:-2]"
   ]
  },
  {
   "cell_type": "code",
   "execution_count": null,
   "metadata": {
    "collapsed": true
   },
   "outputs": [],
   "source": []
  },
  {
   "cell_type": "code",
   "execution_count": null,
   "metadata": {
    "collapsed": true
   },
   "outputs": [],
   "source": []
  },
  {
   "cell_type": "code",
   "execution_count": null,
   "metadata": {
    "collapsed": true
   },
   "outputs": [],
   "source": []
  },
  {
   "cell_type": "code",
   "execution_count": null,
   "metadata": {
    "collapsed": true
   },
   "outputs": [],
   "source": []
  },
  {
   "cell_type": "code",
   "execution_count": null,
   "metadata": {
    "collapsed": true
   },
   "outputs": [],
   "source": []
  }
 ],
 "metadata": {
  "kernelspec": {
   "display_name": "Python 2",
   "language": "python",
   "name": "python2"
  },
  "language_info": {
   "codemirror_mode": {
    "name": "ipython",
    "version": 2
   },
   "file_extension": ".py",
   "mimetype": "text/x-python",
   "name": "python",
   "nbconvert_exporter": "python",
   "pygments_lexer": "ipython2",
   "version": "2.7.12"
  }
 },
 "nbformat": 4,
 "nbformat_minor": 1
}
