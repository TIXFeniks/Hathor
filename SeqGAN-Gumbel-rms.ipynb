{
 "cells": [
  {
   "cell_type": "markdown",
   "metadata": {},
   "source": [
    "### Simple lasagne seqGAN\n",
    "\n",
    "Here we train a simple recurrent GAN through gumbel-softmax trick.\n",
    "\n",
    "### Loading the data"
   ]
  },
  {
   "cell_type": "code",
   "execution_count": 1,
   "metadata": {
    "collapsed": false,
    "scrolled": true
   },
   "outputs": [],
   "source": [
    "from matplotlib import pyplot as plt\n",
    "%matplotlib inline\n",
    "plt.rcParams.update({'axes.titlesize': 'small'})\n",
    "import numpy as np\n",
    "\n",
    "#wget the data\n",
    "!wget https://raw.githubusercontent.com/yandexdataschool/HSE_deeplearning/master/week4/names -O names &> log"
   ]
  },
  {
   "cell_type": "code",
   "execution_count": 2,
   "metadata": {
    "collapsed": false
   },
   "outputs": [
    {
     "name": "stdout",
     "output_type": "stream",
     "text": [
      "n_tokens =  57\n"
     ]
    }
   ],
   "source": [
    "START = \" \" #all phrases will start with this token\n",
    "END = \";\"   #end token. MUST be unique! (no phrase must contain it otherwise)\n",
    "PAD = \"_\"   #token used to make all phrases of equal length.\n",
    "\n",
    "with open(\"names\") as f:\n",
    "    data = f.read()[:-1].split('\\n')\n",
    "    data = np.array([START+name+END for name in data])\n",
    "\n",
    "\n",
    "#all unique characters go here\n",
    "from collections import Counter\n",
    "tokens = Counter([PAD,START,END])\n",
    "for sample in data:\n",
    "    tokens.update(sample)\n",
    "\n",
    "tokens = list(tokens)\n",
    "n_tokens = len(tokens)\n",
    "token_to_i = {l:i for i,l in enumerate(tokens)}\n",
    "print 'n_tokens = ',len(tokens)"
   ]
  },
  {
   "cell_type": "code",
   "execution_count": 3,
   "metadata": {
    "collapsed": false
   },
   "outputs": [],
   "source": [
    "def as_matrix(sequences, max_len=None,dtype='int8'):\n",
    "    \"\"\"convert strings to a matrix of tokens, pad with PAD.\n",
    "    :param max_len: matrix width. If None, infers from the LONGEST phrase\"\"\"\n",
    "    max_len = max_len or max(map(len,sequences))\n",
    "    matrix = np.zeros((len(sequences),max_len),dtype=dtype) +token_to_i[PAD]\n",
    "    for i,seq in enumerate(sequences):\n",
    "        row_ix = map(token_to_i.get,seq)[:max_len]\n",
    "        matrix[i,:len(row_ix)] = row_ix\n",
    "    \n",
    "    return matrix"
   ]
  },
  {
   "cell_type": "code",
   "execution_count": 4,
   "metadata": {
    "collapsed": false,
    "scrolled": true
   },
   "outputs": [
    {
     "name": "stdout",
     "output_type": "stream",
     "text": [
      "[' Ebony;' ' Kam;' ' Brunhilda;' ' Theobald;' ' Alaine;']\n",
      "[[ 0  7 33 44 45 54  3 30 30 30 30]\n",
      " [ 0 13 31 42  3 30 30 30 30 30 30]\n",
      " [ 0  6 49 50 45 39 38 43 35 31  3]\n",
      " [ 0 24 39 34 44 33 31 43 35  3 30]\n",
      " [ 0  4 43 31 38 45 34  3 30 30 30]]\n"
     ]
    }
   ],
   "source": [
    "batch = data[np.random.randint(0,len(data),5)]\n",
    "print batch\n",
    "print as_matrix(batch)"
   ]
  },
  {
   "cell_type": "markdown",
   "metadata": {},
   "source": [
    "### Blah-blah GAN\n",
    "Blah-blah gumbel blah-blah architecture"
   ]
  },
  {
   "cell_type": "code",
   "execution_count": 6,
   "metadata": {
    "collapsed": false,
    "scrolled": false
   },
   "outputs": [
    {
     "name": "stdout",
     "output_type": "stream",
     "text": [
      "env: THEANO_FLAGS=device=gpu7,floatX=float32\n"
     ]
    },
    {
     "name": "stderr",
     "output_type": "stream",
     "text": [
      "Using gpu device 7: GeForce GTX 1080 (CNMeM is enabled with initial size: 45.0% of memory, cuDNN 5105)\n"
     ]
    }
   ],
   "source": [
    "%env THEANO_FLAGS=device=gpu7,floatX=float32\n",
    "import theano\n",
    "import theano.tensor as T\n",
    "\n",
    "gumbel_t = theano.shared(np.float32(1.)) #temperature for gumbel-softmax\n"
   ]
  },
  {
   "cell_type": "code",
   "execution_count": 7,
   "metadata": {
    "collapsed": false
   },
   "outputs": [],
   "source": [
    "from gumbel_softmax import GumbelSoftmax\n",
    "\n",
    "class real_data:\n",
    "\n",
    "    inputX = T.matrix('input_sequences', 'int32') # [batch_size, length]\n",
    "    \n",
    "    X_flat = inputX.ravel()\n",
    "    X_one_hot = T.extra_ops.to_one_hot(X_flat,n_tokens)\n",
    "    X_gumbel = GumbelSoftmax(gumbel_t)(X_one_hot*10)    \n",
    "    \n",
    "    output_gumbel = X_gumbel.reshape(tuple(inputX.shape)+(n_tokens,))\n",
    "    \n",
    "    output_mask = T.neq(inputX,token_to_i[PAD])\n",
    "    "
   ]
  },
  {
   "cell_type": "code",
   "execution_count": 8,
   "metadata": {
    "collapsed": false,
    "scrolled": true
   },
   "outputs": [
    {
     "data": {
      "image/png": "[encoded data removed]",
      "text/plain": [
       "<matplotlib.figure.Figure at 0x7fb8e49f32d0>"
      ]
     },
     "metadata": {},
     "output_type": "display_data"
    }
   ],
   "source": [
    "plt.subplot(1,3,1)\n",
    "plt.title('gumbel t=3')\n",
    "gumbel_t.set_value(3)\n",
    "plt.imshow(real_data.output_gumbel.eval({real_data.inputX:as_matrix(data[:10])}).reshape(-1,n_tokens))\n",
    "\n",
    "plt.subplot(1,3,2)\n",
    "plt.title('gumbel t=1')\n",
    "gumbel_t.set_value(1)\n",
    "plt.imshow(real_data.output_gumbel.eval({real_data.inputX:as_matrix(data[:10])}).reshape(-1,n_tokens))\n",
    "\n",
    "plt.subplot(1,3,3)\n",
    "plt.title('gumbel t=0.01')\n",
    "gumbel_t.set_value(0.01)\n",
    "plt.imshow(real_data.output_gumbel.eval({real_data.inputX:as_matrix(data[:10])}).reshape(-1,n_tokens))\n",
    "gumbel_t.set_value(1)\n"
   ]
  },
  {
   "cell_type": "code",
   "execution_count": 62,
   "metadata": {
    "collapsed": false,
    "scrolled": false
   },
   "outputs": [
    {
     "name": "stderr",
     "output_type": "stream",
     "text": [
      "/home/hedgedir/agentnet/agentnet/agent/recurrence.py:188: UserWarning: State_variables recommended type is OrderedDict.\n",
      "                Otherwise, order of agent state outputs from get_sessions and get_agent_reaction methods\n",
      "                may depend on python configuration.\n",
      "\n",
      "                Current order is: [<lasagne.layers.merge.ElemwiseMergeLayer object at 0x7fb7fc4fb310>, <lasagne.layers.special.NonlinearityLayer object at 0x7fb7fc4fb910>]\n",
      "                You may find OrderedDict in standard collections module: from collections import OrderedDict\n",
      "                \n",
      "  \"\"\".format(state_variables=list(self.state_variables.keys())))\n"
     ]
    }
   ],
   "source": [
    "import lasagne\n",
    "from lasagne.layers import *\n",
    "from agentnet import Recurrence\n",
    "from agentnet.memory import *\n",
    "\n",
    "def get_mask(output_tokens):\n",
    "    \"\"\"takes matrix of real or generated tokens,\n",
    "    returns mask with '1's only until the first 'end' (inclusively)\"\"\"\n",
    "    assert output_tokens.ndim==2\n",
    "    is_end = T.eq(output_tokens,token_to_i[END]).astype('int32')\n",
    "    \n",
    "    cumsum_end = T.concatenate([\n",
    "            T.zeros_like(is_end[:,:1]),\n",
    "            T.cumsum(is_end,axis=-1)[:,:-1]\n",
    "            ],axis=-1)\n",
    "    return T.eq(cumsum_end,0)\n",
    "\n",
    "class generator:\n",
    "    inputZ = T.matrix('input_noise', 'float32')\n",
    "\n",
    "    NUM_UNITS = 256 #generator RNN size\n",
    "    CODE_SIZE = 128 # size of uniform noise\n",
    "    n_steps = T.iscalar(\"n_steps for generator\")\n",
    "\n",
    "    #####NOISE#####\n",
    "    l_in = InputLayer((None, CODE_SIZE), input_var=inputZ,\n",
    "                      name='g_input_noise')\n",
    "    l_rnn_init = DenseLayer(l_in,NUM_UNITS,nonlinearity=T.tanh,\n",
    "                            name = \"gru initial state from noize\")\n",
    "    l_each_tick = DenseLayer(l_in,25,nonlinearity=T.tanh,\n",
    "                            name = \"gru additional input from noize\")\n",
    "    \n",
    "    \n",
    "    #####STEP#####\n",
    "    l_input = InputLayer((None,n_tokens))\n",
    "    l_input_argmax = ExpressionLayer(l_input,lambda a: a.argmax(-1),(None,))\n",
    "    l_input_emb = EmbeddingLayer(l_input_argmax,n_tokens,30)\n",
    "\n",
    "    l_code = InputLayer((None,25))\n",
    "    \n",
    "    l_prev_rnn = InputLayer((None,NUM_UNITS))\n",
    "    l_new_rnn = GRUCell(l_prev_rnn,[l_input_emb,l_code])\n",
    "    \n",
    "    \n",
    "    \n",
    "    l_pre_out = DenseLayer(l_new_rnn,len(tokens),\n",
    "                         nonlinearity=None)\n",
    "    \n",
    "    \n",
    "    l_probas = NonlinearityLayer(l_pre_out,\n",
    "                         nonlinearity=T.nnet.softmax)\n",
    "    \n",
    "    \n",
    "    l_gumbel = NonlinearityLayer(l_pre_out,\n",
    "                         nonlinearity=GumbelSoftmax(gumbel_t))\n",
    "    \n",
    "    \n",
    "    feedback_loop = Recurrence(\n",
    "        state_variables={\n",
    "            l_new_rnn:l_prev_rnn,\n",
    "            l_gumbel:l_input\n",
    "        },\n",
    "        state_init={l_new_rnn:l_rnn_init},\n",
    "        input_nonsequences={l_code:l_each_tick},\n",
    "        tracked_outputs=[l_gumbel,l_probas],\n",
    "        unroll_scan=False,\n",
    "        n_steps = n_steps\n",
    "    )\n",
    "    l_gen = feedback_loop[l_gumbel]\n",
    "    l_prob = feedback_loop[l_probas]\n",
    "    \n",
    "    assert len(l_gen.output_shape)==3 and l_gen.output_shape[-1] == len(tokens)\n",
    "\n",
    "    weights = get_all_params(l_gen, trainable=True)\n",
    "    \n",
    "    ###outputs\n",
    "    output_gumbel,output_probas = get_output([l_gen,l_prob])\n",
    "    output_tokens = T.argmax(output_gumbel,axis=-1)\n",
    "    output_mask = get_mask(output_tokens)\n",
    "    rng_updates = feedback_loop.get_automatic_updates()\n",
    "    \n",
    "    sample = theano.function([inputZ,n_steps],[output_tokens,output_mask],updates=rng_updates)\n",
    "    sample_probas = theano.function([inputZ,n_steps],[output_gumbel, output_mask],updates=rng_updates)\n",
    "    \n",
    "    \n",
    "    @staticmethod\n",
    "    def generate(noise=None,max_len=25):\n",
    "        #make noise\n",
    "        noise = noise or np.random.randn(1,generator.CODE_SIZE).astype('float32')\n",
    "        #sample indices\n",
    "        answer_ix,mask = generator.sample(noise,max_len)\n",
    "        answer_ix = answer_ix[0,mask[0]]\n",
    "        return ''.join(map(tokens.__getitem__, answer_ix))"
   ]
  },
  {
   "cell_type": "code",
   "execution_count": 128,
   "metadata": {
    "collapsed": false,
    "scrolled": true
   },
   "outputs": [
    {
     "data": {
      "text/plain": [
       "' C;'"
      ]
     },
     "execution_count": 128,
     "metadata": {},
     "output_type": "execute_result"
    }
   ],
   "source": [
    "generator.generate(max_len=50)"
   ]
  },
  {
   "cell_type": "markdown",
   "metadata": {},
   "source": [
    "### Discriminator\n",
    "\n",
    "Here your work begins :)"
   ]
  },
  {
   "cell_type": "code",
   "execution_count": 64,
   "metadata": {
    "collapsed": false
   },
   "outputs": [],
   "source": [
    "from lasagne.nonlinearities import *\n",
    "from lasagne.init import Normal\n",
    "from lasagne.layers import *\n",
    "\n",
    "\n",
    "class discriminator:\n",
    "    ##########\n",
    "    #TODO:\n",
    "    # - make this guy take gumbel sequence as input [None,None,n_tokens]\n",
    "    # - make this guy output single probability at the end\n",
    "    # - do not forget to apply MASK to the RNN\n",
    "    # --- create an input layer for mask.\n",
    "    # - pairs of inputs:\n",
    "    # --- fake images: generator.output_gumbel,generator.output_mask\n",
    "    # --- real images: real_data.output_gumbel,real_data.output_mask\n",
    "    # - use pure lasagne for now (keep it simple)\n",
    "    NUM_UNITS=128\n",
    "    \n",
    "        \n",
    "    seq_in = InputLayer((None, None, n_tokens),real_data.output_gumbel,name='d_input')\n",
    "    mask_in = InputLayer((None, None),real_data.output_mask, name='d_input_mask')\n",
    "\n",
    "    lstm_1 = LSTMLayer(seq_in,NUM_UNITS,mask_input=mask_in, \n",
    "                            nonlinearity=T.tanh,)\n",
    "\n",
    "    l_logit = DenseLayer(lstm_1,1,nonlinearity=None,num_leading_axes=2) #P(real|x)\n",
    "    l_prob = NonlinearityLayer(l_logit,sigmoid)\n",
    "    \n",
    "    \n",
    "    weights = get_all_params(l_prob, trainable=True)\n",
    "    \n",
    "    predict = theano.function([real_data.inputX],get_output(l_prob)[:,-1])\n"
   ]
  },
  {
   "cell_type": "code",
   "execution_count": 77,
   "metadata": {
    "collapsed": true
   },
   "outputs": [],
   "source": [
    "randomness = theano.shared(1e-5, name=\"randomness\")"
   ]
  },
  {
   "cell_type": "code",
   "execution_count": 78,
   "metadata": {
    "collapsed": false
   },
   "outputs": [],
   "source": [
    "class training:\n",
    "    \n",
    "    #D(data). Uses default inputs from real_data.*\n",
    "    p_real_is_real,logit_real = get_output([discriminator.l_prob,discriminator.l_logit])\n",
    "    \n",
    "    #D(G(z))    \n",
    "    p_gen_is_real,logit_gen = get_output([discriminator.l_prob,discriminator.l_logit],\n",
    "                                           {discriminator.seq_in: generator.output_gumbel,\n",
    "                                            discriminator.mask_in: generator.output_mask})\n",
    "    \n",
    "\n",
    "    \n",
    "    \n",
    "    #negative entropy of G\n",
    "    g_n_entropy = (T.log(generator.output_probas)* generator.output_mask[:,:,None]).sum() / generator.output_probas.shape[0]\n",
    "    \n",
    "    ########################\n",
    "    ###generator training###\n",
    "    ########################\n",
    "    \n",
    "    \n",
    "    g_loss = - g_n_entropy * randomness - T.log(p_gen_is_real).mean()\n",
    "    g_updates = lasagne.updates.adagrad(g_loss, generator.weights, 0.005)\n",
    "    g_train_step = theano.function([generator.inputZ, generator.n_steps], \n",
    "                                   [g_loss, generator.output_probas],\n",
    "                                   updates=g_updates+generator.rng_updates)\n",
    "\n",
    "    \n",
    "    ########################\n",
    "    #discriminator training#\n",
    "    ########################\n",
    "    \n",
    "    \n",
    "    d_loss = -T.log(p_real_is_real).mean() - T.log(1-p_gen_is_real).mean()\n",
    "\n",
    "    #regularize for pre-sigmoid activations\n",
    "    d_loss += 0.01*(T.mean(logit_real**2) + T.mean(logit_gen**2))\n",
    "\n",
    "    d_updates = lasagne.updates.adagrad(d_loss, discriminator.weights, 0.005)\n",
    "    d_train_step = theano.function([real_data.inputX, generator.inputZ, generator.n_steps],\n",
    "                                   d_loss, updates=d_updates+generator.rng_updates)\n",
    "    "
   ]
  },
  {
   "cell_type": "markdown",
   "metadata": {},
   "source": [
    "### Auxilary functions\n",
    "Sampling, visualization"
   ]
  },
  {
   "cell_type": "code",
   "execution_count": 79,
   "metadata": {
    "collapsed": false
   },
   "outputs": [],
   "source": [
    "def sample_noise_batch(bsize):\n",
    "    return np.random.normal(size=(bsize, generator.CODE_SIZE)).astype('float32')\n",
    "\n",
    "def sample_data_batch(bsize):\n",
    "    idxs = np.random.choice(np.arange(data.shape[0]), size=bsize)\n",
    "    return as_matrix(data[idxs])\n",
    "\n",
    "def sample_text(n_texts,max_len=25):\n",
    "    return [generator.generate(max_len=max_len) for _ in xrange(n_texts)]\n",
    "\n",
    "def sample_probas(bsize,max_len=25):\n",
    "    \n",
    "    real_batch = sample_data_batch(bsize)\n",
    "    D_on_real_data = discriminator.predict(real_batch).ravel()\n",
    "    \n",
    "    gen_batch = as_matrix(sample_text(bsize,max_len=max_len))\n",
    "    D_on_gen = discriminator.predict(gen_batch).ravel()\n",
    "    \n",
    "    plt.hist(D_on_real_data,label='D(x)', alpha=0.5)\n",
    "    plt.hist(D_on_gen,label='D(G(z))',alpha=0.5)\n",
    "    plt.legend(loc='best')\n",
    "    plt.xlim(0,1)\n",
    "    plt.show()"
   ]
  },
  {
   "cell_type": "code",
   "execution_count": 80,
   "metadata": {
    "collapsed": false
   },
   "outputs": [
    {
     "data": {
      "image/png": "[encoded data removed]",
      "text/plain": [
       "<matplotlib.figure.Figure at 0x7fb856eab550>"
      ]
     },
     "metadata": {},
     "output_type": "display_data"
    }
   ],
   "source": [
    "sample_probas(100, True)"
   ]
  },
  {
   "cell_type": "markdown",
   "metadata": {},
   "source": [
    "### Training"
   ]
  },
  {
   "cell_type": "code",
   "execution_count": 141,
   "metadata": {
    "collapsed": true
   },
   "outputs": [],
   "source": [
    "gumbel_t.set_value(3.0)\n",
    "randomness.set_value(1e-5)"
   ]
  },
  {
   "cell_type": "code",
   "execution_count": null,
   "metadata": {
    "collapsed": false,
    "scrolled": true
   },
   "outputs": [
    {
     "name": "stdout",
     "output_type": "stream",
     "text": [
      "[\" HJVApq'DWCBMP-JqQAr-YRbn\", \"CMdlMgNwSepIrxBdcTY'Kzymi\", '_cvFGu_AxDlgFlZdrtPgNEzq-', ' tfaVohwQdXqFUaPrtav  ooc', \" nPFUjl-s'RVVGspEhgQWSSnQ\"]\n"
     ]
    }
   ],
   "source": [
    "from IPython import display\n",
    "from tqdm import tqdm\n",
    "\n",
    "probs = None\n",
    "for epoch in tqdm(xrange(100000)):\n",
    "    for i in range(3):\n",
    "        d_loss = training.d_train_step(sample_data_batch(100), sample_noise_batch(100), 25)\n",
    "    for i in range(1):\n",
    "        g_loss, probs = training.g_train_step(sample_noise_batch(100),25)\n",
    "        \n",
    "        \n",
    "    gumbel_t.set_value((gumbel_t.get_value()*(1-0.0001)).astype(\"float32\"))\n",
    "\n",
    "    if epoch %100==0:\n",
    "        display.clear_output(wait=True)\n",
    "        print sample_text(5)\n",
    "        sample_probas(1000)\n",
    "    if epoch%25==0:\n",
    "        print 'D_loss=%.3f,G_loss=%.3f,gumbel_t=%.3f'%(d_loss,g_loss,gumbel_t.get_value())\n",
    "        "
   ]
  },
  {
   "cell_type": "code",
   "execution_count": 137,
   "metadata": {
    "collapsed": false,
    "scrolled": true
   },
   "outputs": [
    {
     "data": {
      "text/plain": [
       "array([[[  5.18527210e-01,   7.02320272e-03,   6.63515134e-03, ...,\n",
       "           5.87685639e-03,   9.19082575e-03,   9.12074000e-03],\n",
       "        [  3.97856813e-03,   1.51654184e-02,   1.56066213e-02, ...,\n",
       "           1.54008958e-02,   1.60031635e-02,   1.93495844e-02],\n",
       "        [  3.02088185e-04,   1.72109734e-02,   1.18530123e-02, ...,\n",
       "           1.52019272e-02,   1.44948401e-02,   1.76824927e-02],\n",
       "        ..., \n",
       "        [  2.98754836e-04,   1.87279806e-02,   1.91573631e-02, ...,\n",
       "           1.92216374e-02,   1.61834266e-02,   2.03722119e-02],\n",
       "        [  3.96667607e-03,   2.04449445e-02,   1.81877259e-02, ...,\n",
       "           1.62880011e-02,   1.84668675e-02,   2.10380554e-02],\n",
       "        [  1.64722987e-02,   1.98336560e-02,   1.72689278e-02, ...,\n",
       "           1.47829205e-02,   1.84403099e-02,   1.91202108e-02]],\n",
       "\n",
       "       [[  7.45931208e-01,   6.85368013e-03,   5.15978178e-03, ...,\n",
       "           4.60288720e-03,   5.21052862e-03,   3.79285333e-03],\n",
       "        [  7.54713314e-03,   2.21969821e-02,   2.07819361e-02, ...,\n",
       "           2.11774260e-02,   2.27039382e-02,   1.65888667e-02],\n",
       "        [  4.74938395e-04,   2.47300733e-02,   1.69201903e-02, ...,\n",
       "           1.77999400e-02,   1.69153437e-02,   2.00441424e-02],\n",
       "        ..., \n",
       "        [  1.14500364e-02,   1.74415018e-02,   1.72668397e-02, ...,\n",
       "           1.74129158e-02,   1.74984504e-02,   1.86242741e-02],\n",
       "        [  1.75739583e-02,   1.71620324e-02,   1.63539741e-02, ...,\n",
       "           1.75434276e-02,   1.70476772e-02,   1.81480832e-02],\n",
       "        [  2.04560496e-02,   1.73619650e-02,   1.66436713e-02, ...,\n",
       "           1.72803290e-02,   1.72928553e-02,   1.78919341e-02]],\n",
       "\n",
       "       [[  6.70434952e-01,   1.99907506e-03,   3.51173547e-03, ...,\n",
       "           5.27965417e-03,   4.05009184e-03,   2.16002786e-03],\n",
       "        [  2.29161209e-03,   1.21284341e-02,   1.98790133e-02, ...,\n",
       "           1.64206307e-02,   2.45758146e-02,   1.17535805e-02],\n",
       "        [  1.98168302e-04,   1.70847178e-02,   2.14981679e-02, ...,\n",
       "           2.08764281e-02,   1.78889465e-02,   1.90841798e-02],\n",
       "        ..., \n",
       "        [  3.83943170e-02,   1.70325059e-02,   1.66238360e-02, ...,\n",
       "           1.52071184e-02,   1.81804523e-02,   1.78990494e-02],\n",
       "        [  3.11910808e-02,   1.89088341e-02,   1.83213055e-02, ...,\n",
       "           1.33403577e-02,   1.96557958e-02,   1.81730948e-02],\n",
       "        [  2.26473790e-02,   1.91741716e-02,   1.87403597e-02, ...,\n",
       "           1.35647794e-02,   2.00398602e-02,   1.91435274e-02]],\n",
       "\n",
       "       ..., \n",
       "       [[  8.95309031e-01,   2.50926637e-03,   1.56391435e-03, ...,\n",
       "           3.55561217e-03,   1.45678245e-03,   1.47992582e-03],\n",
       "        [  1.42540280e-02,   1.92070957e-02,   2.29633674e-02, ...,\n",
       "           1.69517975e-02,   2.71847099e-02,   1.42810270e-02],\n",
       "        [  8.19198031e-05,   2.07922813e-02,   1.66652966e-02, ...,\n",
       "           1.86852850e-02,   1.73195042e-02,   1.93225462e-02],\n",
       "        ..., \n",
       "        [  1.49421105e-02,   1.87044367e-02,   1.72334164e-02, ...,\n",
       "           1.81367192e-02,   1.75558235e-02,   1.91130601e-02],\n",
       "        [  1.57329664e-02,   1.85222402e-02,   1.69919804e-02, ...,\n",
       "           1.78911537e-02,   1.75863262e-02,   1.90924313e-02],\n",
       "        [  1.99562050e-02,   1.85935162e-02,   1.69497188e-02, ...,\n",
       "           1.76190138e-02,   1.78116839e-02,   1.89470798e-02]],\n",
       "\n",
       "       [[  7.03338623e-01,   5.73603529e-03,   7.27321487e-03, ...,\n",
       "           9.35247075e-03,   5.14318608e-03,   5.12090279e-03],\n",
       "        [  3.76424915e-03,   1.40068717e-02,   2.01429371e-02, ...,\n",
       "           2.54131779e-02,   1.60967428e-02,   1.73435211e-02],\n",
       "        [  6.04804489e-04,   1.65037774e-02,   1.56482998e-02, ...,\n",
       "           1.99558754e-02,   1.41241513e-02,   1.94280129e-02],\n",
       "        ..., \n",
       "        [  3.21776755e-02,   1.81754399e-02,   1.68460440e-02, ...,\n",
       "           1.62148625e-02,   1.80313885e-02,   1.89408343e-02],\n",
       "        [  1.87719800e-02,   1.87218674e-02,   1.76996849e-02, ...,\n",
       "           1.62695441e-02,   1.84280761e-02,   1.97191890e-02],\n",
       "        [  1.31328609e-02,   1.81606319e-02,   1.70030054e-02, ...,\n",
       "           1.64820328e-02,   1.78837106e-02,   1.97063554e-02]],\n",
       "\n",
       "       [[  8.75635922e-01,   2.22725538e-03,   1.95650151e-03, ...,\n",
       "           1.01230037e-03,   1.82018185e-03,   1.46428065e-03],\n",
       "        [  5.96181490e-05,   1.57144032e-02,   2.40396839e-02, ...,\n",
       "           1.00949286e-02,   2.49532964e-02,   1.37431398e-02],\n",
       "        [  1.50387816e-03,   1.80048849e-02,   2.14057192e-02, ...,\n",
       "           1.41593385e-02,   2.48065013e-02,   2.16790885e-02],\n",
       "        ..., \n",
       "        [  4.53916192e-03,   1.92131493e-02,   1.80940107e-02, ...,\n",
       "           1.63364038e-02,   1.98924113e-02,   2.10783593e-02],\n",
       "        [  1.48330005e-02,   1.86758377e-02,   1.66384801e-02, ...,\n",
       "           1.52038131e-02,   1.90935265e-02,   1.85358133e-02],\n",
       "        [  1.24634970e-02,   1.91956237e-02,   1.76038779e-02, ...,\n",
       "           1.51905632e-02,   1.88680589e-02,   1.84123553e-02]]], dtype=float32)"
      ]
     },
     "execution_count": 137,
     "metadata": {},
     "output_type": "execute_result"
    }
   ],
   "source": [
    "probs"
   ]
  },
  {
   "cell_type": "code",
   "execution_count": null,
   "metadata": {
    "collapsed": true
   },
   "outputs": [],
   "source": []
  }
 ],
 "metadata": {
  "anaconda-cloud": {},
  "kernelspec": {
   "display_name": "Python 2",
   "language": "python",
   "name": "python2"
  },
  "language_info": {
   "codemirror_mode": {
    "name": "ipython",
    "version": 2
   },
   "file_extension": ".py",
   "mimetype": "text/x-python",
   "name": "python",
   "nbconvert_exporter": "python",
   "pygments_lexer": "ipython2",
   "version": "2.7.12"
  }
 },
 "nbformat": 4,
 "nbformat_minor": 1
}
